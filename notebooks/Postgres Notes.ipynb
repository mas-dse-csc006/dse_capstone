{
 "cells": [
  {
   "cell_type": "code",
   "execution_count": null,
   "metadata": {},
   "outputs": [],
   "source": [
    "\"\"\"\n",
    "ADD PATH TO .bash_profile\n",
    "this is not the most secure approach; but, set environment variable with your password \n",
    "[gets picked up if using psql to execute sql files]\n",
    "\n",
    "# Setting PATH for postgres\n",
    "export PATH=\"/Library/PostgreSQL/10/bin/:$PATH\"\n",
    "export PGPASSWORD=\"password\"\n",
    "export PGUSER=\"postgres\"\n",
    "\n",
    "\n",
    "\n",
    "psql -Upostgres <or your user>\n",
    "\n",
    "IS POSTGRES RUNNING\n",
    "ps auxwww | grep postgres\n",
    "\n",
    "SHUTTING DOWN POSTGRS (PROBABLY CAN DO SAME AS START UP BELOW)\n",
    "sudo su -\n",
    "su - postgres\n",
    "cd /Library/PostgreSQL/10/bin\n",
    "./pg_ctl -D /Library/PostgreSQL/10/data/ stop -m fast\n",
    "\n",
    "\n",
    "STARTING SERVER\n",
    "sudo su postgres -c '/Library/PostgreSQL/10/bin/pg_ctl start -D /Library/PostgreSQL/10/data/'\n",
    "\n",
    "\"\"\""
   ]
  }
 ],
 "metadata": {
  "kernelspec": {
   "display_name": "Python 3",
   "language": "python",
   "name": "python3"
  },
  "language_info": {
   "codemirror_mode": {
    "name": "ipython",
    "version": 3
   },
   "file_extension": ".py",
   "mimetype": "text/x-python",
   "name": "python",
   "nbconvert_exporter": "python",
   "pygments_lexer": "ipython3",
   "version": "3.6.3"
  }
 },
 "nbformat": 4,
 "nbformat_minor": 2
}
