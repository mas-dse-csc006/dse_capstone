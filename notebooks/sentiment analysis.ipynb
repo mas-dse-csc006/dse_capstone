{
 "cells": [
  {
   "cell_type": "code",
   "execution_count": 43,
   "metadata": {},
   "outputs": [],
   "source": [
    "#!pip install textblob\n",
    "\n",
    "from textblob import TextBlob as tb\n",
    "\n",
    "def asin_sentiment(df_review):\n",
    "    df_review[['polarity']] = df_review['reviewtext'].apply(lambda Text: pd.Series(tb(Text).sentiment.polarity))\n",
    "    df_sentiment = df_review.groupby(['asin'], as_index=False)['polarity'].mean()\n",
    "    #result = pd.merge(df_review, df_sentiment, on='asin', how='inner')\n",
    "    return df_sentiment"
   ]
  },
  {
   "cell_type": "code",
   "execution_count": 31,
   "metadata": {},
   "outputs": [],
   "source": [
    "import pandas as pd\n",
    "# 24 review records from clothing 5 lacked review text\n",
    "df = pd.read_csv('/Users/nolanthomas/Public/amazon/out_to_calc_sentiment.csv')\n",
    "# 278,653 (excluding the reviews without text otherwise would be 278677)"
   ]
  },
  {
   "cell_type": "code",
   "execution_count": 32,
   "metadata": {},
   "outputs": [
    {
     "data": {
      "text/plain": [
       "Index(['reviewerid', 'asin', 'reviewtext', 'unixtime'], dtype='object')"
      ]
     },
     "execution_count": 32,
     "metadata": {},
     "output_type": "execute_result"
    }
   ],
   "source": [
    "df.columns"
   ]
  },
  {
   "cell_type": "code",
   "execution_count": 33,
   "metadata": {},
   "outputs": [],
   "source": [
    "rt = df['reviewtext']\n",
    "for t in rt:\n",
    "    try:\n",
    "        tb(t)\n",
    "    except:\n",
    "        print(t)\n",
    "        break\n"
   ]
  },
  {
   "cell_type": "code",
   "execution_count": 42,
   "metadata": {},
   "outputs": [
    {
     "data": {
      "text/plain": [
       "23033"
      ]
     },
     "execution_count": 42,
     "metadata": {},
     "output_type": "execute_result"
    }
   ],
   "source": [
    "len(df['asin'].unique())\n",
    "--23033"
   ]
  },
  {
   "cell_type": "code",
   "execution_count": 46,
   "metadata": {},
   "outputs": [],
   "source": [
    "sentiments_df = asin_sentiment(df)"
   ]
  },
  {
   "cell_type": "code",
   "execution_count": 51,
   "metadata": {},
   "outputs": [
    {
     "name": "stdout",
     "output_type": "stream",
     "text": [
      "(23033, 2)\n"
     ]
    }
   ],
   "source": [
    "print (sentiments_df.shape)\n",
    "sentiments_df.to_csv('/Users/nolanthomas/Public/amazon/in_calculated_sentiment.csv')"
   ]
  },
  {
   "cell_type": "code",
   "execution_count": null,
   "metadata": {},
   "outputs": [],
   "source": []
  }
 ],
 "metadata": {
  "kernelspec": {
   "display_name": "Python 3",
   "language": "python",
   "name": "python3"
  },
  "language_info": {
   "codemirror_mode": {
    "name": "ipython",
    "version": 3
   },
   "file_extension": ".py",
   "mimetype": "text/x-python",
   "name": "python",
   "nbconvert_exporter": "python",
   "pygments_lexer": "ipython3",
   "version": "3.6.3"
  }
 },
 "nbformat": 4,
 "nbformat_minor": 2
}
