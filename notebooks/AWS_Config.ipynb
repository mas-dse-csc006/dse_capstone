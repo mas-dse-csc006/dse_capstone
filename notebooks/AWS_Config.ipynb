{
 "cells": [
  {
   "cell_type": "code",
   "execution_count": 1,
   "metadata": {},
   "outputs": [
    {
     "data": {
      "text/plain": [
       "\"\\nAWS Console URL: https://cohort3group1.signin.aws.amazon.com/console\\n\\nUsername: n2thomas\\nPassword: Jfz1Ahr5 -> aws4lbrti!\\n\\n\\nMove files to aws ec2\\n\\nPOSTGRES AWS:\\n-------------------------------------------\\n\\nzip out_web_data.zip out_web*.csv\\nscp -i ~nolanthomas/csc006.pem /Users/nolanthomas/Public/amazon/out_web_data.zip   ec2-user@ec2-35-173-188-150.compute-1.amazonaws.com:/home/datafiles\\n\\nssh -i ~nolanthomas/csc006.pem ec2-user@ec2-35-173-188-150.compute-1.amazonaws.com\\nunzip out_web_data.zip\\nchmod 660 out_web*.csv\\nsudo su postgres\\npsql\\n/* run contents of aws_load_data.sql */\\nCOPY product FROM \\n'/home/datafiles/out_web_product_table.tabdelimiter.csv'\\nWITH DELIMITER E'\\t' CSV HEADER;\\n\\nCOPY amazon_reviewer FROM \\n'/home/datafiles/out_web_amazon_reviewer_table.tabdelimiter.csv'\\nWITH DELIMITER E'\\t' CSV HEADER;\\n\\nCOPY review FROM \\n'/home/datafiles/out_web_review_table.tabdelimiter.csv'\\nWITH DELIMITER E'\\t' CSV HEADER;\\n   \\nAWS GPU Server\\n-------------------------------------------\\n\\nLogin to Server   \\nssh -i ~nolanthomas/csc006.pem ubuntu@ec2-34-204-167-21.compute-1.amazonaws.com\\n\\nCopy Notebook\\nscp -i ~nolanthomas/csc006.pem DataLoading.V2.BPR_with_its_extensions_updated.ipynb ubuntu@ec2-34-204-167-21.compute-1.amazonaws.com:/home/ubuntu/DSE260-Capstone\\n\\nCopy datafile\\nscp -i ~nolanthomas/csc006.pem out_model_features.csv.gz ubuntu@ec2-34-204-167-21.compute-1.amazonaws.com:/home/ubuntu/data\\n\\n\\nStart Jupyter on AWS so that it can be accessed remotely\\n------------------------------------------------------------------------------------------\\nssh -i ~nolanthomas/csc006.pem -L 8157:127.0.0.1:8888 ubuntu@ec2-34-204-167-21.compute-1.amazonaws.com\\nconda info --envs\\nsource activate tensorflow_p36 \\nhttps://127.0.0.1:8157 [password: info]\\n\""
      ]
     },
     "execution_count": 1,
     "metadata": {},
     "output_type": "execute_result"
    }
   ],
   "source": [
    "\"\"\"\n",
    "AWS Console URL: https://cohort3group1.signin.aws.amazon.com/console\n",
    "\n",
    "Username: n2thomas\n",
    "Password: Jfz1Ahr5 -> aws4lbrti!\n",
    "\n",
    "\n",
    "Move files to aws ec2\n",
    "\n",
    "POSTGRES AWS:\n",
    "-------------------------------------------\n",
    "\n",
    "zip out_web_data.zip out_web*.csv\n",
    "scp -i ~nolanthomas/csc006.pem /Users/nolanthomas/Public/amazon/out_web_data.zip   ec2-user@ec2-35-173-188-150.compute-1.amazonaws.com:/home/datafiles\n",
    "\n",
    "ssh -i ~nolanthomas/csc006.pem ec2-user@ec2-35-173-188-150.compute-1.amazonaws.com\n",
    "unzip out_web_data.zip\n",
    "chmod 660 out_web*.csv\n",
    "sudo su postgres\n",
    "psql\n",
    "/* run contents of aws_load_data.sql */\n",
    "COPY product FROM \n",
    "'/home/datafiles/out_web_product_table.tabdelimiter.csv'\n",
    "WITH DELIMITER E'\\t' CSV HEADER;\n",
    "\n",
    "COPY amazon_reviewer FROM \n",
    "'/home/datafiles/out_web_amazon_reviewer_table.tabdelimiter.csv'\n",
    "WITH DELIMITER E'\\t' CSV HEADER;\n",
    "\n",
    "COPY review FROM \n",
    "'/home/datafiles/out_web_review_table.tabdelimiter.csv'\n",
    "WITH DELIMITER E'\\t' CSV HEADER;\n",
    "   \n",
    "AWS GPU Server\n",
    "-------------------------------------------\n",
    "\n",
    "Login to Server   \n",
    "ssh -i ~nolanthomas/csc006.pem ubuntu@ec2-34-204-167-21.compute-1.amazonaws.com\n",
    "\n",
    "Copy Notebook\n",
    "scp -i ~nolanthomas/csc006.pem DataLoading.V2.BPR_with_its_extensions_updated.ipynb ubuntu@ec2-34-204-167-21.compute-1.amazonaws.com:/home/ubuntu/DSE260-Capstone\n",
    "\n",
    "Copy to local to aws\n",
    "scp -i ~nolanthomas/csc006.pem out_model_features.csv.gz ubuntu@ec2-34-204-167-21.compute-1.amazonaws.com:/home/ubuntu/data\n",
    "Copy aws to local\n",
    "scp -i ~nolanthomas/csc006.pem ubuntu@ec2-54-87-176-134.compute-1.amazonaws.com:/home/ubuntu/data:/bpr_project.out.20180602.zip ~nolanthomas/Documents/capstone\n",
    "\n",
    "\n",
    "Start Jupyter on AWS so that it can be accessed remotely\n",
    "------------------------------------------------------------------------------------------\n",
    "ssh -i ~nolanthomas/csc006.pem -L 8157:127.0.0.1:8888 ubuntu@ec2-34-204-167-21.compute-1.amazonaws.com\n",
    "conda info --envs\n",
    "source activate tensorflow_p36 \n",
    "jupyter notebook\n",
    "https://127.0.0.1:8157 [password: info]\n",
    "\"\"\""
   ]
  },
  {
   "cell_type": "code",
   "execution_count": null,
   "metadata": {},
   "outputs": [],
   "source": []
  }
 ],
 "metadata": {
  "kernelspec": {
   "display_name": "Python 3",
   "language": "python",
   "name": "python3"
  },
  "language_info": {
   "codemirror_mode": {
    "name": "ipython",
    "version": 3
   },
   "file_extension": ".py",
   "mimetype": "text/x-python",
   "name": "python",
   "nbconvert_exporter": "python",
   "pygments_lexer": "ipython3",
   "version": "3.6.5"
  }
 },
 "nbformat": 4,
 "nbformat_minor": 2
}
