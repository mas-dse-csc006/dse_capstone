{
 "cells": [
  {
   "cell_type": "code",
   "execution_count": 4,
   "metadata": {},
   "outputs": [
    {
     "name": "stdout",
     "output_type": "stream",
     "text": [
      "Working with file: metadata.json.gz\n",
      "Working with file: reviews_Electronics_5.json.gz\n",
      "Working with file: reviews_Clothing_Shoes_and_Jewelry_5.json.gz\n"
     ]
    }
   ],
   "source": [
    "import json\n",
    "import gzip\n",
    "import os\n",
    "\n",
    "home_data_directory = '/Users/nolanthomas/Public/amazon'\n",
    "\n",
    "raw_files = ['metadata.json.gz','reviews_Electronics_5.json.gz','reviews_Clothing_Shoes_and_Jewelry_5.json.gz']\n",
    "\n",
    "def parse(path):\n",
    "  g = gzip.open(path, 'r')\n",
    "  for l in g:\n",
    "    yield json.dumps(eval(l))\n",
    "\n",
    "for file in raw_files:\n",
    "    print (\"Working with file:\", file)             \n",
    "    f = open(os.path.join(home_data_directory, 'interim','in.strict.' + file.replace('.gz','')),'w')\n",
    "    for l in parse(os.path.join(home_data_directory, 'raw', file)):\n",
    "      f.write(l + '\\n')"
   ]
  }
 ],
 "metadata": {
  "kernelspec": {
   "display_name": "Python 3",
   "language": "python",
   "name": "python3"
  },
  "language_info": {
   "codemirror_mode": {
    "name": "ipython",
    "version": 3
   },
   "file_extension": ".py",
   "mimetype": "text/x-python",
   "name": "python",
   "nbconvert_exporter": "python",
   "pygments_lexer": "ipython3",
   "version": "3.6.3"
  }
 },
 "nbformat": 4,
 "nbformat_minor": 2
}
