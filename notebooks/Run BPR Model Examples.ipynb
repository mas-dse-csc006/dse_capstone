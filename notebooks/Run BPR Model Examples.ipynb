{
 "cells": [
  {
   "cell_type": "markdown",
   "metadata": {},
   "source": [
    "## importing required libraries"
   ]
  },
  {
   "cell_type": "code",
   "execution_count": 1,
   "metadata": {},
   "outputs": [
    {
     "name": "stdout",
     "output_type": "stream",
     "text": [
      "/Users/nolanthomas/Documents/capstone/bpr_project/src/model\n"
     ]
    },
    {
     "ename": "SyntaxError",
     "evalue": "invalid syntax (bpr_model.py, line 375)",
     "output_type": "error",
     "traceback": [
      "Traceback \u001b[0;36m(most recent call last)\u001b[0m:\n",
      "  File \u001b[1;32m\"/Users/nolanthomas/anaconda3/lib/python3.6/site-packages/IPython/core/interactiveshell.py\"\u001b[0m, line \u001b[1;32m2910\u001b[0m, in \u001b[1;35mrun_code\u001b[0m\n    exec(code_obj, self.user_global_ns, self.user_ns)\n",
      "\u001b[0;36m  File \u001b[0;32m\"<ipython-input-1-25b781e2b799>\"\u001b[0;36m, line \u001b[0;32m21\u001b[0;36m, in \u001b[0;35m<module>\u001b[0;36m\u001b[0m\n\u001b[0;31m    from bpr_model import *\u001b[0m\n",
      "\u001b[0;36m  File \u001b[0;32m\"/Users/nolanthomas/Documents/capstone/bpr_project/src/model/bpr_model.py\"\u001b[0;36m, line \u001b[0;32m375\u001b[0m\n\u001b[0;31m    if feature_dicts=None:\u001b[0m\n\u001b[0m                    ^\u001b[0m\n\u001b[0;31mSyntaxError\u001b[0m\u001b[0;31m:\u001b[0m invalid syntax\n"
     ]
    }
   ],
   "source": [
    "import pandas as pd\n",
    "import warnings\n",
    "warnings.filterwarnings('ignore')\n",
    "from collections import defaultdict\n",
    "import struct\n",
    "import numpy as np\n",
    "import numpy\n",
    "import random\n",
    "import tensorflow as tf\n",
    "import os\n",
    "import pickle as pickle\n",
    "import matplotlib.pyplot as plt\n",
    "import sys\n",
    "from datetime import datetime\n",
    "import time\n",
    "from pathlib import Path\n",
    "p = !pwd\n",
    "home = p[0].replace('/notebook','')\n",
    "sys.path.insert(0, os.path.join(home,'src','model'))\n",
    "print(os.path.join(home,'src','model'))\n",
    "from bpr_model import *\n",
    "%matplotlib inline\n",
    "print(home)"
   ]
  },
  {
   "cell_type": "markdown",
   "metadata": {},
   "source": [
    "## Load and make transformations; reuse across sessions\n",
    "#### 1. Load data\n",
    "#### 2. Make transformations\n",
    "#### 3. Run Session\n",
    "#### 4. Save Results dictionary into a pickle \n",
    "#### 5. Pickle files can be review later for comparison/combining/graphing/performance analysis"
   ]
  },
  {
   "cell_type": "code",
   "execution_count": null,
   "metadata": {},
   "outputs": [],
   "source": [
    "bpr_data_file = os.path.join(home, 'data', 'processed', 'out_model_features.20180523.tab.csv')"
   ]
  },
  {
   "cell_type": "code",
   "execution_count": 2,
   "metadata": {
    "scrolled": true
   },
   "outputs": [
    {
     "ename": "NameError",
     "evalue": "name 'load_data_hybrid' is not defined",
     "output_type": "error",
     "traceback": [
      "\u001b[0;31m---------------------------------------------------------------------------\u001b[0m",
      "\u001b[0;31mNameError\u001b[0m                                 Traceback (most recent call last)",
      "\u001b[0;32m<ipython-input-2-91b0cdb43bcf>\u001b[0m in \u001b[0;36m<module>\u001b[0;34m()\u001b[0m\n\u001b[0;32m----> 1\u001b[0;31m user_count, item_count, users, items, user_ratings, item_ratings, loaded_features   = load_data_hybrid(bpr_data_file, \n\u001b[0m\u001b[1;32m      2\u001b[0m                                                                                                        \u001b[0mmin_items\u001b[0m\u001b[0;34m=\u001b[0m\u001b[0;36m1\u001b[0m\u001b[0;34m,\u001b[0m\u001b[0;34m\u001b[0m\u001b[0m\n\u001b[1;32m      3\u001b[0m                                                                                                        min_users=1)\n\u001b[1;32m      4\u001b[0m \u001b[0;31m# len(take(1, loaded_features['brand'].values())[0])\u001b[0m\u001b[0;34m\u001b[0m\u001b[0;34m\u001b[0m\u001b[0m\n",
      "\u001b[0;31mNameError\u001b[0m: name 'load_data_hybrid' is not defined"
     ]
    }
   ],
   "source": [
    "user_count, item_count, users, items, user_ratings, item_ratings, loaded_features   = load_data_hybrid(bpr_data_file, \n",
    "                                                                                                       min_items=1, \n",
    "                                                                                                       min_users=1)\n",
    "# len(take(1, loaded_features['brand'].values())[0])"
   ]
  },
  {
   "cell_type": "code",
   "execution_count": null,
   "metadata": {},
   "outputs": [],
   "source": [
    "len(loaded_features)"
   ]
  },
  {
   "cell_type": "code",
   "execution_count": null,
   "metadata": {},
   "outputs": [],
   "source": [
    "\"\"\"\n",
    "When: min_items=4, min_users=0\n",
    "\n",
    "Then:\n",
    "max_u_id:  34107\n",
    "max_i_id:  10318\n",
    "reviews :  131979\n",
    "u_id:  10244\n",
    "i_id:  10318\n",
    "reviews :  69390\n",
    "\"\"\""
   ]
  },
  {
   "cell_type": "code",
   "execution_count": null,
   "metadata": {},
   "outputs": [],
   "source": [
    "loaded_features = transform_features(loaded_features)\n",
    "results = {}"
   ]
  },
  {
   "cell_type": "code",
   "execution_count": null,
   "metadata": {},
   "outputs": [],
   "source": [
    "#loaded_features['brand']"
   ]
  },
  {
   "cell_type": "markdown",
   "metadata": {},
   "source": [
    "## Model Running given different variants"
   ]
  },
  {
   "cell_type": "code",
   "execution_count": null,
   "metadata": {},
   "outputs": [],
   "source": [
    "# define number of sessions or epochs\n",
    "NUM_SESSIONS = 1\n",
    "variants  = {\n",
    "    'BPR':None\n",
    "    #'Cluster':['cluster_1hotencoded']\n",
    "    #'Price-10bin':['price_1hotencoded'],\n",
    "    #'Price-Log-30bin':['price_log_1hotencoded'],\n",
    "    #'L4-Avg-10bin':['level4_average_1hotencoded'],\n",
    "    #'L4-Avg-Log-30bin':['level4_average_log_1hotencoded']\n",
    "    #'Price-Adj-10bin':['l4_avg_adjusted_1hotencoded'],\n",
    "    #'Price-Adj-Log-30bin':['l4_avg_adjusted_log_1hotencoded']\n",
    "    #'Category-Tags, Subcat-L4, Brand':['top_categories','level4', 'brand_1hotencoded']\n",
    "    #'Category-Tags':['top_categories'],\n",
    "    #'Subcat-L4':['level4'],\n",
    "    #'Price-Log':['price_log_1hotencoded'],\n",
    "    #'Price-Adj':['l4_avg_adjusted_1hotencoded'],\n",
    "    #'Price-Adj-Log':['l4_avg_adjusted_log_1hotencoded'],\n",
    "    #'Brand':['brand_1hotencoded']\n",
    "}\n",
    "\"\"\"\n",
    "variants  = {\n",
    "    #'Price-Log':['price_log_1hotencoded'],\n",
    "    'Category-Tags, Subcat-L4, $Price':['top_categories','level4','price_log_1hotencoded'],\n",
    "    'Subcat-L4, Price-Log':['level4','price_log_1hotencoded'],\n",
    "    'Category-Tags, Price-Log':['top_categories','price_log_1hotencoded'],\n",
    "    'Category-Tags, Subcat-L4, Brand, Price-Log':['price_log_1hotencoded','top_categories', 'level4', 'brand_1hotencoded']\n",
    "}\n",
    "\"\"\""
   ]
  },
  {
   "cell_type": "code",
   "execution_count": null,
   "metadata": {
    "scrolled": false
   },
   "outputs": [],
   "source": [
    "# feature_set() is called without arguments\n",
    "for desc, features_to_use in variants.items():\n",
    "    print (desc + str(features_to_use))\n",
    "    if features_to_use != None:\n",
    "        features_list = feature_set([loaded_features[c] for c in features_to_use])\n",
    "    else:\n",
    "        features_list = feature_set()\n",
    "    results[desc] = run(1,\n",
    "                        user_count, item_count,\n",
    "                        users, items,\n",
    "                        user_ratings, item_ratings,\n",
    "                        features_list,\n",
    "                        hidden_dim=10,hidden_adv_dim=10,\n",
    "                        cold_start_thresh=10\n",
    "                       )"
   ]
  },
  {
   "cell_type": "code",
   "execution_count": null,
   "metadata": {},
   "outputs": [],
   "source": [
    "results.keys()"
   ]
  },
  {
   "cell_type": "markdown",
   "metadata": {},
   "source": [
    "### Save results dictionary to a pickle file"
   ]
  },
  {
   "cell_type": "code",
   "execution_count": null,
   "metadata": {},
   "outputs": [],
   "source": [
    "import pickle\n",
    "datetime.now().strftime(\"%Y%m%d.%H%M\")\n",
    "pickle.dump( results, open( \"results.\"+datetime.now().strftime(\"%Y%m%d.%H%M\")\n",
    " + \".pickle\", \"wb\" )"
   ]
  },
  {
   "cell_type": "markdown",
   "metadata": {},
   "source": [
    "## Single Features"
   ]
  },
  {
   "cell_type": "code",
   "execution_count": null,
   "metadata": {},
   "outputs": [],
   "source": [
    "#single_features = ['BPR','Category-Tags','Subcat-L4','Price-Log','Price-Adj-Log','Brand']\n",
    "#results_to_graph ={v:results[v] for v in single_features}\n",
    "#'Price-10bin', 'Price-Log-30bin', 'L4-Avg-10bin', 'Price-Adj-10bin', 'Price-Adj-Log-30bin']\n",
    "results_to_graph ={v:results[v] for v in single_features}"
   ]
  },
  {
   "cell_type": "code",
   "execution_count": null,
   "metadata": {},
   "outputs": [],
   "source": [
    "rpt_date = datetime.now().strftime(\"%Y%m%d.%H%M\")\n",
    "plot_auc_curve(results_to_graph,'BPR Price Features Test AUC\\nK=10,Min Items=4,Min Users=0\\n' + rpt_date ,None)\n",
    "\n",
    "plot_auc_cold_start_curve(results, 'BPR Price Features Cold Start AUC\\nK=10,Min Items=4,Min Users=0\\n' + rpt_date,None)"
   ]
  },
  {
   "cell_type": "markdown",
   "metadata": {},
   "source": [
    "### Run Feature Combinations: Comparing to BPR and Category-Tags"
   ]
  },
  {
   "cell_type": "code",
   "execution_count": null,
   "metadata": {},
   "outputs": [],
   "source": [
    "combos = ['BPR','Category-Tags', 'Category-Tags, Subcat-L4, Brand']\n",
    "results_to_graph ={v:results[v] for v in combos}\n",
    "plot_auc_curve(results_to_graph,\n",
    "               'BPR Test AUC\\nCategory Tags vs Feature Combinations\\nK=10,Min Items=4,Min Users=0\\n' + rpt_date,\n",
    "               'Category-Tags')"
   ]
  },
  {
   "cell_type": "code",
   "execution_count": null,
   "metadata": {},
   "outputs": [],
   "source": [
    "plot_auc_cold_start_curve(results_to_graph,\n",
    "                          'BPR Cold Start Test AUC\\nCategory Tags vs Feature Combinations\\nK=10,Min Items=4,Min Users=0\\n' + rpt_date,\n",
    "                          'Category-Tags')"
   ]
  },
  {
   "cell_type": "markdown",
   "metadata": {},
   "source": [
    "### Load results from prior runs for analysis and/or merging"
   ]
  },
  {
   "cell_type": "code",
   "execution_count": null,
   "metadata": {},
   "outputs": [],
   "source": [
    "import pickle\n",
    "results_0141 = pickle.load( open( \"results.20180511.0141.pickle\", \"rb\" ) )"
   ]
  },
  {
   "cell_type": "code",
   "execution_count": null,
   "metadata": {},
   "outputs": [],
   "source": [
    "z = [v['delta_sec'] for k,v in results.items()]"
   ]
  },
  {
   "cell_type": "code",
   "execution_count": null,
   "metadata": {},
   "outputs": [],
   "source": [
    "dt_str = datetime.now().strftime(\"%Y%m%d.%H%M\")\n",
    "sns.set_context(\"talk\")\n",
    "plt.figure(figsize=(20,10))\n",
    "plt.tick_params(axis='both', which='major', labelsize=20)\n",
    "#plt.title(title,fontsize=30)\n",
    "plt.scatter(z,\n",
    "    #label=calc_desc,\n",
    "    #linewidth=lw,\n",
    "    #linestyle=ls,\n",
    "    #markersize=ms,\n",
    "    marker='o')\n",
    "plt.legend()\n",
    "#plt.ylabel(\"Cold Start Test AUC\",fontsize=20)\n",
    "#plt.xlabel(\"Number of Iterations\",fontsize=20)"
   ]
  },
  {
   "cell_type": "markdown",
   "metadata": {},
   "source": [
    "### Simple output of AUC value from last iteration"
   ]
  },
  {
   "cell_type": "code",
   "execution_count": null,
   "metadata": {},
   "outputs": [],
   "source": [
    "for k,v in results.items():   \n",
    "    print('AUC Test -' + k +  str(v['auc_test'][-1]))\n",
    "    print('Cold Start AUC Test - '+ k + str(v['auc_cold_test'][-1]))    "
   ]
  },
  {
   "cell_type": "code",
   "execution_count": null,
   "metadata": {},
   "outputs": [],
   "source": [
    "## FOR NOLAN TO ADD\n",
    "user_items_test = results['Category-Tags, Subcat-L4, Brand']['user_items_test']\n",
    "#def build_recommendation_list(users, items, user_items_test):\n",
    "f = {}    \n",
    "for i in (x[0]for x in enumerate(user_items_test)):\n",
    "    for x in zip(user_items_test[i][0], user_items_test[i][1]):\n",
    "        f[(x[0][0], x[0][1], x[0][2])] = x[1][0]\n",
    "\n",
    "user_item_rec_score = {}\n",
    "user_item_pur_score= {}\n",
    "for x in list(f.keys()):\n",
    "    # if SCORE is less than zero meaning USER preffered j Over i\n",
    "    if f[x] < 0:\n",
    "        if x[0] not in user_item_rec_score.keys():\n",
    "            user_item_rec_score[x[0]] = []\n",
    "        user_item_rec_score[x[0]].append((x[2], f[x]))\n",
    "    # SCORE of more than 0, meaning user preffered i over j\n",
    "    else:\n",
    "        if x[0] not in user_item_pur_score.keys():\n",
    "            user_item_pur_score[x[0]] = []\n",
    "        user_item_pur_score[x[0]].append((x[1], f[x]))\n",
    "\n",
    "#reverse dict for look up\n",
    "users_lookup= {v:k for k,v in users.items()}\n",
    "items_lookup= {v:k for k,v in items.items()}\n",
    "\n",
    "array=[]\n",
    "for x in list(user_item_rec_score.keys()):\n",
    "    try:\n",
    "        a=user_item_rec_score[x]\n",
    "        b= sorted(a, key=lambda x: x[1])\n",
    "        #old loop: for i in range(10): \n",
    "        #recommending up to top 10 items\n",
    "        for i in range( len(b) ): #min((len(b), 10)) ):\n",
    "                array.append((users_lookup[x], items_lookup[b[i][0]]))  \n",
    "    except IndexError:\n",
    "        raise IndexError(\"Index Error at x,i\",x,i)\n",
    "\n",
    "\n",
    "#create dataframe of user and their REC LIST- Top 10 SORTED by high to low Preference score so ORDER matters\n",
    "df=pd.DataFrame(array, columns=['User','Recommended Items'])\n",
    "df_Rec=df.groupby('User', as_index=False)['Recommended Items'].agg({'Recommendation list':(lambda x: list(x))})\n",
    "\n",
    "c=df_Rec.set_index('User').T.to_json()\n",
    "\n",
    "import json as json\n",
    "#user_items_test = rz['Category-Tags']['user_items_test']\n",
    "#rec_json = build_recommendation_list(users, items, user_items_test)"
   ]
  },
  {
   "cell_type": "code",
   "execution_count": null,
   "metadata": {},
   "outputs": [],
   "source": [
    "df_Rec.head()"
   ]
  },
  {
   "cell_type": "code",
   "execution_count": null,
   "metadata": {},
   "outputs": [],
   "source": [
    "print (rec_df.shape, len(user_items_test), len(users), len(items))\n",
    "df_row =  df_Rec.iloc[574]\n",
    "print (df_row['User'], df_row['Recommendation list'])\n",
    "\n",
    "with open('reclist_json', 'w+') as f: \n",
    "    f.write(json.dumps(c))"
   ]
  },
  {
   "cell_type": "code",
   "execution_count": null,
   "metadata": {},
   "outputs": [],
   "source": [
    "#!ls *.pickle\n",
    "import pickle\n",
    "results = pickle.load( open( \"results_k10_minitem1_minuser1.20180521.2306.pickle\", \"rb\" ) )\n",
    "results['Price-Log'] = results['Price-Log_10']\n",
    "del results['Price-Log_10']\n",
    "results.keys()\n",
    "rpt_date = datetime.now().strftime(\"%Y%m%d.%H%M\")"
   ]
  },
  {
   "cell_type": "code",
   "execution_count": null,
   "metadata": {},
   "outputs": [],
   "source": [
    "plot_auc_curve(results,\n",
    "               'BPR Test AUC\\nK=10,Min Items=1,Min Users=1\\n' + rpt_date,\n",
    "               'Category-Tags')\n",
    "plot_auc_cold_start_curve(results,\n",
    "               'BPR Cold Test AUC\\nK=10,Min Items=1,Min Users=1\\n' + rpt_date,\n",
    "               'Category-Tags')"
   ]
  },
  {
   "cell_type": "code",
   "execution_count": null,
   "metadata": {},
   "outputs": [],
   "source": []
  }
 ],
 "metadata": {
  "kernelspec": {
   "display_name": "Python 3",
   "language": "python",
   "name": "python3"
  },
  "language_info": {
   "codemirror_mode": {
    "name": "ipython",
    "version": 3
   },
   "file_extension": ".py",
   "mimetype": "text/x-python",
   "name": "python",
   "nbconvert_exporter": "python",
   "pygments_lexer": "ipython3",
   "version": "3.6.3"
  }
 },
 "nbformat": 4,
 "nbformat_minor": 2
}
